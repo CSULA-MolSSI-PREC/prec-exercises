{
 "cells": [
  {
   "cell_type": "markdown",
   "metadata": {},
   "source": [
    "# Troubleshooting and \"Debugging\" Python Programs\n",
    "\n",
    "Troubleshooting, also called \"debugging\" in computer science,  is the process of finding and fixing errors in your code. \n",
    "It is an important skill for any programmer. In this worksheet, we will practice debugging by finding and fixing errors in some code.\n",
    "You should try to do this without writing code first. \n",
    "Just read the code and try to predict what it will do and how to fix it.\n",
    "After you have made predictions about the code, you can run it in Python to check your answers.\n",
    "\n",
    "## Reading Python Error Messages\n",
    "    \n",
    "When you run a Python program, you may see an error message.\n",
    "The error message will tell you what went wrong and where it went wrong.\n",
    "In Python, when you get an error, you should start reading **at the bottom of the traceback**.\n",
    "The bottom of the traceback will tell you what went wrong.\n",
    "The message will also show the code where the error occurred, and show an arrow pointing to the exact location of the error.\n",
    "\n",
    "<img src=\"images/annotated_traceback.png\">\n",
    "\n",
    "In the example above, the error message tells us that there is a `NameError`. A `NameError` occurs when you try to use a variable that has not been defined. In this case, the variable `energy_kcal` has not been defined. Yesterday in our code, we fixed this by adding `energy_kcal = []` before the `for` loop.\n",
    "\n",
    "Some common types of errors in Python are:\n",
    "\n",
    "* `NameError`: You tried to use a variable that has not been defined. Sometimes this might tell you that you have a typo in your variable name.\n",
    "* `SyntaxError`: You have a typo in your code. For example, you forgot a colon at the end of a line.\n",
    "* `IndentationError`: Your `for` loop or `if` statement is not indented correctly.\n",
    "* `TypeError`: You tried to use a variable of the wrong type. For example, you tried to use a string as a number.   \n",
    "* `ValueError`: You tried to use a variable with the correct type, but the wrong value. For example, you tried to use a number that is too large or too small.\n",
    "* `FileNotFoundError`: You tried to open a file that does not exist. Sometimes you might have just made a typo in the file name.\n",
    "\n",
    "## Debugging Practice\n",
    "\n",
    "Practice reading the error messages below. Below each error message, write down what you think the error is and how you would fix it."
   ]
  },
  {
   "cell_type": "code",
   "execution_count": null,
   "metadata": {},
   "outputs": [],
   "source": [
    "carbon = 12.011\n",
    "hydrogen = 1\n",
    "\n",
    "methane_weight = cabon * 1 + hydrogen * 4\n",
    "print(methane_weight)\n",
    "\n"
   ]
  },
  {
   "cell_type": "markdown",
   "metadata": {},
   "source": [
    "Use this box to identify the error that occurred above. How would you fix it?\n",
    "\n",
    "<br><br><br><br><br><br><br><br><br>"
   ]
  },
  {
   "cell_type": "code",
   "execution_count": null,
   "metadata": {},
   "outputs": [],
   "source": [
    "x = 5\n",
    "y = \"2\"\n",
    "z = x + y\n",
    "print(z)\n"
   ]
  },
  {
   "cell_type": "markdown",
   "metadata": {},
   "source": [
    "Use this box to identify the error that occurred above. How would you fix it?\n",
    "\n",
    "<br><br><br><br><br><br><br><br><br>"
   ]
  },
  {
   "cell_type": "code",
   "execution_count": null,
   "metadata": {},
   "outputs": [],
   "source": [
    "numbers = [1, 2, 3, 4, 5]\n",
    "times_10_list = []\n",
    "\n",
    "for num in numbers:\n",
    "    times_10 = num * 10\n",
    "print(times_10) \n",
    "    times_10_list = times_10_list.append(times_10)\n",
    "\n",
    "print(times_10_list)\n",
    "\n",
    "\n"
   ]
  },
  {
   "cell_type": "markdown",
   "metadata": {},
   "source": [
    "Use this box to identify the error that occurred above. How would you fix it?\n",
    "\n",
    "<br><br><br><br><br><br><br><br><br>"
   ]
  },
  {
   "cell_type": "markdown",
   "metadata": {},
   "source": [
    "Sometimes, the error message will contains code from multiple functions, \n",
    "with the error occurring at the place where the `---->` arrow is pointing.\n",
    "This is called a \"Traceback\" because you can trace the sequence of function calls that led to the error. \n",
    "Sometimes when you see a traceback, the code that is highlighted will be from another function that you did not write.\n",
    "\n",
    "Typically when you encounter a traceback, you will want to \"trace back\" the code until you find the part you wrote. Try to use this strategy in the example below."
   ]
  },
  {
   "cell_type": "code",
   "execution_count": 2,
   "metadata": {},
   "outputs": [
    {
     "ename": "FileNotFoundError",
     "evalue": "[Errno 2] No such file or directory: 'data/outfile/ethanol.out'",
     "output_type": "error",
     "traceback": [
      "\u001b[0;31m---------------------------------------------------------------------------\u001b[0m",
      "\u001b[0;31mFileNotFoundError\u001b[0m                         Traceback (most recent call last)",
      "Cell \u001b[0;32mIn[2], line 3\u001b[0m\n\u001b[1;32m      1\u001b[0m ethanol_file \u001b[38;5;241m=\u001b[39m \u001b[38;5;124m\"\u001b[39m\u001b[38;5;124mdata/outfile/ethanol.out\u001b[39m\u001b[38;5;124m\"\u001b[39m\n\u001b[0;32m----> 3\u001b[0m \u001b[38;5;28;01mwith\u001b[39;00m \u001b[38;5;28;43mopen\u001b[39;49m\u001b[43m(\u001b[49m\u001b[43methanol_file\u001b[49m\u001b[43m,\u001b[49m\u001b[43m \u001b[49m\u001b[38;5;124;43m\"\u001b[39;49m\u001b[38;5;124;43mr\u001b[39;49m\u001b[38;5;124;43m\"\u001b[39;49m\u001b[43m)\u001b[49m \u001b[38;5;28;01mas\u001b[39;00m outfile:\n\u001b[1;32m      4\u001b[0m     data \u001b[38;5;241m=\u001b[39m outfile\u001b[38;5;241m.\u001b[39mreadlines()\n",
      "File \u001b[0;32m~/miniconda3/envs/molssi_best_practices/lib/python3.11/site-packages/IPython/core/interactiveshell.py:310\u001b[0m, in \u001b[0;36m_modified_open\u001b[0;34m(file, *args, **kwargs)\u001b[0m\n\u001b[1;32m    303\u001b[0m \u001b[38;5;28;01mif\u001b[39;00m file \u001b[38;5;129;01min\u001b[39;00m {\u001b[38;5;241m0\u001b[39m, \u001b[38;5;241m1\u001b[39m, \u001b[38;5;241m2\u001b[39m}:\n\u001b[1;32m    304\u001b[0m     \u001b[38;5;28;01mraise\u001b[39;00m \u001b[38;5;167;01mValueError\u001b[39;00m(\n\u001b[1;32m    305\u001b[0m         \u001b[38;5;124mf\u001b[39m\u001b[38;5;124m\"\u001b[39m\u001b[38;5;124mIPython won\u001b[39m\u001b[38;5;124m'\u001b[39m\u001b[38;5;124mt let you open fd=\u001b[39m\u001b[38;5;132;01m{\u001b[39;00mfile\u001b[38;5;132;01m}\u001b[39;00m\u001b[38;5;124m by default \u001b[39m\u001b[38;5;124m\"\u001b[39m\n\u001b[1;32m    306\u001b[0m         \u001b[38;5;124m\"\u001b[39m\u001b[38;5;124mas it is likely to crash IPython. If you know what you are doing, \u001b[39m\u001b[38;5;124m\"\u001b[39m\n\u001b[1;32m    307\u001b[0m         \u001b[38;5;124m\"\u001b[39m\u001b[38;5;124myou can use builtins\u001b[39m\u001b[38;5;124m'\u001b[39m\u001b[38;5;124m open.\u001b[39m\u001b[38;5;124m\"\u001b[39m\n\u001b[1;32m    308\u001b[0m     )\n\u001b[0;32m--> 310\u001b[0m \u001b[38;5;28;01mreturn\u001b[39;00m \u001b[43mio_open\u001b[49m\u001b[43m(\u001b[49m\u001b[43mfile\u001b[49m\u001b[43m,\u001b[49m\u001b[43m \u001b[49m\u001b[38;5;241;43m*\u001b[39;49m\u001b[43margs\u001b[49m\u001b[43m,\u001b[49m\u001b[43m \u001b[49m\u001b[38;5;241;43m*\u001b[39;49m\u001b[38;5;241;43m*\u001b[39;49m\u001b[43mkwargs\u001b[49m\u001b[43m)\u001b[49m\n",
      "\u001b[0;31mFileNotFoundError\u001b[0m: [Errno 2] No such file or directory: 'data/outfile/ethanol.out'"
     ]
    }
   ],
   "source": [
    "ethanol_file = \"data/outfile/ethanol.out\"\n",
    "\n",
    "with open(ethanol_file, \"r\") as outfile:\n",
    "    data = outfile.readlines()"
   ]
  },
  {
   "cell_type": "markdown",
   "metadata": {},
   "source": [
    "Use this box to identify the error that occurred above. How would you fix it?\n",
    "\n",
    "<br><br><br><br><br><br><br><br><br>"
   ]
  },
  {
   "cell_type": "markdown",
   "metadata": {},
   "source": []
  }
 ],
 "metadata": {
  "kernelspec": {
   "display_name": "molssi_best_practices",
   "language": "python",
   "name": "python3"
  },
  "language_info": {
   "codemirror_mode": {
    "name": "ipython",
    "version": 3
   },
   "file_extension": ".py",
   "mimetype": "text/x-python",
   "name": "python",
   "nbconvert_exporter": "python",
   "pygments_lexer": "ipython3",
   "version": "3.11.6"
  }
 },
 "nbformat": 4,
 "nbformat_minor": 2
}
