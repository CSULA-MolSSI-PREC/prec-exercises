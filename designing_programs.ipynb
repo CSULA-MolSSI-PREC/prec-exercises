{
 "cells": [
  {
   "cell_type": "markdown",
   "metadata": {},
   "source": [
    "# Designing Programs\n",
    "\n",
    "In this worksheet, you will learn and practice how to design programs. You will learn how to use the design recipe to design code, and how to break down a problem into smaller subproblems.\n",
    "\n",
    "## The Design Recipe\n",
    "\n",
    "The design recipe is a systematic way of designing programs. It consists of the following steps:\n",
    "\n",
    "1. **Problem analysis**: Understand the problem and its requirements.\n",
    "2. **Data analysis**: Understand the data that the program will work with. You will decide what data you are working with and the types of that data.\n",
    "3. **Examples**: Find examples of the program's input and output.\n",
    "4. **Program design**: Design the program. You will decide what functions you need, what the functions do, and how they work together. You might write down a series of steps for the program.\n",
    "5. **Implementation**: Implement the program in code. You have to translate everything you have decided in the previous steps into code that the computer understands.\n",
    "6. **Testing**: Test the program to make sure it works correctly. You will run the program with the examples you found in step 3 and make sure the program produces the correct output.\n",
    "\n",
    "## Example: Reading the energy from \"ethanol.out\"\n",
    "Yesterday, one of the tasks we did was to read the energy from `out` files. Let's go through the design recipe for this task.\n",
    "\n",
    "1. **Problem analysis**: \n",
    "   1. Overall Objective: We want to pull the energy out from files that end in `.out` In order to understand what we need to do for this problem, we need to understand the format of the file. We can open one of the files and look at it. We see that the energy is always on a line in a file that has the phrase \"Final Energy\".\n",
    "2. **Data analysis**: The input data will be the path to the file. This filepath is a string. The output data will be the energy, which is a number.\n",
    "3. **Examples**: We might look at a few files and see what the energy is. This way we know what we expect the answer to be.\n",
    "4. **Program design**: We need to write a function that takes in a filepath and returns the energy. We can break this down into three subproblems:\n",
    "   1. Read the file\n",
    "   2. Find the line that has the phrase \"Final Energy\"\n",
    "   3. Pull out the number on that line.\n",
    "5. **Implementation**: Now that we have decided what the steps are, we can translate them into Python. Sometimes, this part is really difficult because we might not be too familiar with Python syntax! We might have to look up how to do certain things. For example, we might have to look up how to read a file in Python. We might have to look up how to find a string in a line. We might have to look up how to pull out a number from a string. Sometimes, we might even have to break our subproblems into even smaller problems. This is normal! It's okay to look things up. It's also okay to ask for help from your classmates or the instructor.\n",
    "6. **Testing**: We can test our program by running it on the examples we found in step 3. We can also test it on other files to make sure it works correctly.\n",
    "\n",
    "\n",
    "After going through the design recipe, we might have code that looks like the following"
   ]
  },
  {
   "cell_type": "code",
   "execution_count": 1,
   "metadata": {},
   "outputs": [
    {
     "name": "stdout",
     "output_type": "stream",
     "text": [
      "-154.09130176573018\n"
     ]
    }
   ],
   "source": [
    "# Read the file\n",
    "filepath = \"data/outfiles/ethanol.out\"\n",
    "with open(filepath,'r') as f:\n",
    "    data = f.readlines()\n",
    "\n",
    "# Find the line that has the phrase \"Final Energy\"\n",
    "for line in data:\n",
    "    if 'Final Energy' in line:\n",
    "        energy_line = line\n",
    "\n",
    "# Split the line into words\n",
    "words = energy_line.split()\n",
    "energy = float(words[3])\n",
    "print(energy)"
   ]
  },
  {
   "cell_type": "markdown",
   "metadata": {},
   "source": [
    "Now that you've learned about the design recipe. Try applying it to the following problems.\n",
    "\n",
    "For each problem, try applying the Design Recipe first. After you have made a plan, then try writing code.\n",
    "\n",
    "1. Write Python code that calculates the area of a rectangle. (Don't forget to think of and check your answer with examples!)\n",
    "2. Calculate an average grade given a list of grades.\n",
    "3. Calculate the average of total energy for an `mdout` file (like 03_Prod.mdout). (Note, this one will be hard to predict, but you can check that pieces of your code work. For example, you might use similar logic to calculating the average grade.)"
   ]
  }
 ],
 "metadata": {
  "kernelspec": {
   "display_name": "molssi_best_practices",
   "language": "python",
   "name": "python3"
  },
  "language_info": {
   "codemirror_mode": {
    "name": "ipython",
    "version": 3
   },
   "file_extension": ".py",
   "mimetype": "text/x-python",
   "name": "python",
   "nbconvert_exporter": "python",
   "pygments_lexer": "ipython3",
   "version": "3.11.6"
  }
 },
 "nbformat": 4,
 "nbformat_minor": 2
}
